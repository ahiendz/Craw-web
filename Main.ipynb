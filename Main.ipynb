{
 "cells": [
  {
   "cell_type": "code",
   "execution_count": 1,
   "metadata": {},
   "outputs": [],
   "source": [
    "import csv, requests, os, pandas\n",
    "from bs4 import BeautifulSoup\n",
    "from openpyxl import Workbook\n",
    "from openpyxl.utils import get_column_letter\n"
   ]
  },
  {
   "cell_type": "code",
   "execution_count": 2,
   "metadata": {},
   "outputs": [],
   "source": [
    "web_bas = \"https://books.toscrape.com/\"\n",
    "pages = 50"
   ]
  },
  {
   "cell_type": "code",
   "execution_count": 6,
   "metadata": {},
   "outputs": [],
   "source": [
    "with open(\"Data.csv\", mode=\"a\",newline=\"\") as file:\n",
    "    writer = csv.writer(file)\n",
    "    writer.writerow(['STT', 'Name', 'Price', 'Status', 'Rate', 'Link'])\n",
    "    stt = 0\n",
    "    for page in range(1, pages+1):\n",
    "        url = f\"{web_bas}catalogue/page-{page}.html\"\n",
    "        get_data(url)\n",
    "        stt += 20"
   ]
  },
  {
   "cell_type": "code",
   "execution_count": 5,
   "metadata": {},
   "outputs": [],
   "source": [
    "def get_data(url):\n",
    "    html = requests.get(url)\n",
    "    if html.status_code == 200:\n",
    "        soup = BeautifulSoup(html.content, 'html.parser')\n",
    "        books = soup.find_all(\"article\", class_=\"product_pod\")\n",
    "        for id, book in enumerate(books):\n",
    "            title = book.find(\"h3\").find(\"a\")[\"title\"]\n",
    "            price = book.find(\"p\", class_=\"price_color\").get_text(strip=True)[1:]\n",
    "            status = book.find(\"p\", class_=\"instock availability\").get_text(strip=True)\n",
    "            rate = book.find(\"p\", class_=\"star-rating\").get(\"class\")[1]\n",
    "            link = f'https://books.toscrape.com/catalogue/{book.find(\"div\", class_=\"image_container\").find(\"a\")[\"href\"]}'\n",
    "            id = id + stt + 1\n",
    "            writer.writerow([id, title, price, status, rate, link])\n",
    "        "
   ]
  }
 ],
 "metadata": {
  "kernelspec": {
   "display_name": "Python 3",
   "language": "python",
   "name": "python3"
  },
  "language_info": {
   "codemirror_mode": {
    "name": "ipython",
    "version": 3
   },
   "file_extension": ".py",
   "mimetype": "text/x-python",
   "name": "python",
   "nbconvert_exporter": "python",
   "pygments_lexer": "ipython3",
   "version": "3.12.0"
  }
 },
 "nbformat": 4,
 "nbformat_minor": 2
}
